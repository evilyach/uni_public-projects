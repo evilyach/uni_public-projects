{
 "metadata": {
  "language_info": {
   "codemirror_mode": {
    "name": "ipython",
    "version": 3
   },
   "file_extension": ".py",
   "mimetype": "text/x-python",
   "name": "python",
   "nbconvert_exporter": "python",
   "pygments_lexer": "ipython3",
   "version": "3.8.3-final"
  },
  "orig_nbformat": 2,
  "kernelspec": {
   "name": "python3",
   "display_name": "Python 3",
   "language": "python"
  }
 },
 "nbformat": 4,
 "nbformat_minor": 2,
 "cells": [
  {
   "source": [
    "# Лабораторная работа №6 - Моделирование методом Монте-Карло"
   ],
   "cell_type": "markdown",
   "metadata": {}
  },
  {
   "source": [
    "### Вариант 14\n",
    "\n",
    "Составить проблему решения задачи:\n",
    "\n",
    "#### Из N стрелков можно выделить четыре группы: $a_1$ отличных стрелков, $a_2$ хороших, $a_3$ посредственных и $a_4$ плохих. Вероятность попадания в мишень при одном выстреле для $i$-й группы равна $p_i$ ($i = 1, 2, 3, 4$). Вызываются наугад два стрелка и стреляют по одной и той же мишени. Оценить вероятность хотя бы одного попадания в цель.\n",
    "\n",
    "Построить доверительный интервал для полученных оценок, накрывающий точное значение оцениваемых вероятностей с надежностью $\\beta = 0,95$. Правильность результатов проверить аналитическим решением задачи."
   ],
   "cell_type": "markdown",
   "metadata": {}
  },
  {
   "cell_type": "code",
   "execution_count": 23,
   "metadata": {},
   "outputs": [],
   "source": [
    "import random\n",
    "import math"
   ]
  },
  {
   "cell_type": "code",
   "execution_count": 24,
   "metadata": {},
   "outputs": [],
   "source": [
    "n = 10\n",
    "β = 0.95"
   ]
  },
  {
   "cell_type": "code",
   "execution_count": 25,
   "metadata": {},
   "outputs": [],
   "source": [
    "class MonteCarloModeling:\n",
    "    def __init__(self, n, probabilities):\n",
    "        self.n = n\n",
    "        self.probabilities = probabilities\n",
    "\n",
    "    def model(self):\n",
    "        hits = 0\n",
    "\n",
    "        for i in range(self.n):\n",
    "            if self.probabilities[random.randint(0, 3)] >= random.random():\n",
    "                hits += 1\n",
    "                continue\n",
    "            \n",
    "            if self.probabilities[random.randint(0, 3)] >= random.random():\n",
    "                hits += 1\n",
    "                continue            \n",
    "\n",
    "        return hits / self.n\n",
    "\n",
    "    def interval(self, p):\n",
    "        σ = math.sqrt((p * (1 - p)) / self.n)\n",
    "        left = p - β * σ\n",
    "        right = p + β * σ\n",
    "\n",
    "        return left, right\n",
    "\n",
    "    def theoretical(self):\n",
    "        p = 0\n",
    "\n",
    "        for i in range(0, 4):\n",
    "            for j in range(0, 4):\n",
    "                p += self.probabilities[i] + self.probabilities[j]\n",
    "                p += self.probabilities[i] + (1 - self.probabilities[j])\n",
    "                p += (1 - self.probabilities[i]) + self.probabilities[j]\n",
    "\n",
    "        return p / (16 * 4)"
   ]
  },
  {
   "cell_type": "code",
   "execution_count": 26,
   "metadata": {},
   "outputs": [],
   "source": [
    "probabilities = [0.95, 0.75, 0.5, 0.25]"
   ]
  },
  {
   "cell_type": "code",
   "execution_count": 27,
   "metadata": {},
   "outputs": [],
   "source": [
    "task = MonteCarloModeling(n, probabilities)"
   ]
  },
  {
   "source": [
    "### Вероятность по Монте-Карло"
   ],
   "cell_type": "markdown",
   "metadata": {}
  },
  {
   "cell_type": "code",
   "execution_count": 28,
   "metadata": {},
   "outputs": [
    {
     "output_type": "stream",
     "name": "stdout",
     "text": [
      "0.8\n"
     ]
    }
   ],
   "source": [
    "p = task.model()\n",
    "print(round(p, 3))"
   ]
  },
  {
   "source": [
    "### Доверительный интрервал"
   ],
   "cell_type": "markdown",
   "metadata": {}
  },
  {
   "cell_type": "code",
   "execution_count": 29,
   "metadata": {},
   "outputs": [
    {
     "output_type": "stream",
     "name": "stdout",
     "text": [
      "[0.68, 0.92]\n"
     ]
    }
   ],
   "source": [
    "left, right = task.interval(p)\n",
    "print(f\"[{round(left, 3)}, {round(right, 3)}]\")"
   ]
  },
  {
   "source": [
    "### Теоретическая вероятность"
   ],
   "cell_type": "markdown",
   "metadata": {}
  },
  {
   "cell_type": "code",
   "execution_count": 15,
   "metadata": {},
   "outputs": [
    {
     "output_type": "stream",
     "name": "stdout",
     "text": [
      "0.806\n"
     ]
    }
   ],
   "source": [
    "th_p = task.theoretical()\n",
    "print(round(th_p, 3))"
   ]
  },
  {
   "cell_type": "code",
   "execution_count": null,
   "metadata": {},
   "outputs": [],
   "source": []
  }
 ]
}